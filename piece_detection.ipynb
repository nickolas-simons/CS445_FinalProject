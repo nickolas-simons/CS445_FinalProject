{
  "cells": [
    {
      "cell_type": "code",
      "execution_count": null,
      "metadata": {
        "id": "82q-UjPObZGD"
      },
      "outputs": [],
      "source": [
        "# System imports\n",
        "import os\n",
        "from os import path\n",
        "import math\n",
        "import corner_detection_utils\n",
        "import piece_detection_utils\n",
        "\n",
        "# Third-Party Imports\n",
        "import cv2\n",
        "import matplotlib.pyplot as plt\n",
        "import numpy as np\n",
        "from scipy.interpolate import griddata\n",
        "from sklearn.cluster import DBSCAN as db\n",
        "\n"
      ]
    },
    {
      "cell_type": "code",
      "execution_count": null,
      "metadata": {},
      "outputs": [],
      "source": [
        "#Test to see if we can load in an image (May remove this later)\n",
        "datadir = 'Test_Images/'\n",
        "image_file = 'Othello_Game_Board5.png'\n",
        "full_path = os.path.join(datadir, image_file)\n",
        "img = plt.imread(full_path)\n",
        "plt.imshow(img)"
      ]
    },
    {
      "cell_type": "code",
      "execution_count": null,
      "metadata": {},
      "outputs": [],
      "source": [
        "datadir = 'Test_Images/'\n",
        "def detect_corners(image_output_dir, corner_output_dir, corner_detection_func):\n",
        "    image_output_dir = image_output_dir\n",
        "    corner_output_dir = corner_output_dir\n",
        "    os.makedirs(image_output_dir, exist_ok=True)\n",
        "    os.makedirs(corner_output_dir, exist_ok=True)\n",
        "    for i in range(1,11): #Switch to 11 later\n",
        "        # Choose the image file\n",
        "        image_file = f'Othello_Game_Board{i}.png'\n",
        "        # Detect corners\n",
        "        try: \n",
        "            # Read the image\n",
        "            img = np.float32(cv2.imread(datadir+image_file, cv2.IMREAD_COLOR_RGB) / 255.0)\n",
        "            corners = corner_detection_func(img)\n",
        "\n",
        "            # Plot the image and corners\n",
        "            fig, ax = plt.subplots(figsize=(10, 10))\n",
        "            ax.imshow(img)\n",
        "\n",
        "            #Check if corner is numpy array if so convert to lsit\n",
        "            if isinstance(corners, np.ndarray):\n",
        "                corners_list = corners.tolist()\n",
        "            else:\n",
        "                corners_list = corners\n",
        "\n",
        "            for corner in corners:\n",
        "                ax.scatter(corner[0], corner[1], color='yellow', s=40, marker='o')\n",
        "\n",
        "            # Save the image\n",
        "            image_output_file = os.path.join(image_output_dir, image_file)\n",
        "            plt.savefig(image_output_file, bbox_inches='tight', pad_inches=0.1)\n",
        "            plt.show()\n",
        "            plt.close(fig)  # Close the figure to free up memory\n",
        "\n",
        "            # Save the corners to a .txt file\n",
        "            corner_output_file = os.path.join(corner_output_dir, image_file.replace('.png', '.txt'))\n",
        "            with open(corner_output_file, 'w') as f:\n",
        "                f.write(str(corners_list))\n",
        "\n",
        "            print(f\"Image saved to: {image_output_file}\")\n",
        "            print(f\"Corners saved to: {corner_output_file}\")\n",
        "        except Exception as e:\n",
        "            print(f\"Error processing {image_file} {e}\")\n",
        "            continue"
      ]
    },
    {
      "cell_type": "code",
      "execution_count": null,
      "metadata": {},
      "outputs": [],
      "source": [
        "def idenitfy_board_pieces(corner_dir):\n",
        "    # Set directories\n",
        "    datadir = 'Test_Images/'\n",
        "    # Iterate over all 10 Othello board images\n",
        "    for i in range(1, 11):\n",
        "        # Construct image and corner file names\n",
        "        image_file = f'Othello_Game_Board{i}.png'\n",
        "        corner_file = f'Othello_Game_Board{i}.txt'\n",
        "        full_image_path = os.path.join(datadir, image_file)\n",
        "        full_corner_path = os.path.join(corner_dir, corner_file)\n",
        "\n",
        "        # Check if both the image and corner file exist\n",
        "        if not os.path.exists(full_image_path):\n",
        "            print(f\"Image not found, skipping: {image_file}\")\n",
        "            continue\n",
        "\n",
        "        if not os.path.exists(full_corner_path):\n",
        "            print(f\"Corner file not found, skipping: {corner_file}\")\n",
        "            continue\n",
        "\n",
        "        # Load the image\n",
        "        input_image = np.float32(cv2.imread(full_image_path, cv2.IMREAD_COLOR) / 255.0)\n",
        "        plt.imshow(input_image)\n",
        "        plt.title(image_file)\n",
        "        plt.show()\n",
        "\n",
        "        # Load the corners\n",
        "        with open(full_corner_path, 'r') as f:\n",
        "            corners = eval(f.read())\n",
        "\n",
        "        # Convert corners to a NumPy array\n",
        "        corners = np.array(corners, dtype=np.float32)\n",
        "        print(len(corners))\n",
        "\n",
        "        # Skip we don't have 4 corners\n",
        "        if len(corners) != 4: #Note we need exactly for corners for piece detection algorithm to work \n",
        "            print(\"There aren't exactly 4 corners that were detected\")\n",
        "            continue\n",
        "\n",
        "        # Extract the board state\n",
        "        board_state = np.zeros((8, 8))\n",
        "        for row in range(8):\n",
        "            for col in range(8):\n",
        "                piece = piece_detection_utils.detect_piece(input_image, corners, row, col)\n",
        "                board_state[row][col] = piece[0]\n",
        "\n",
        "        # Print the final board state\n",
        "        print(f\"Board State for {image_file}:\")\n",
        "        print(board_state)\n"
      ]
    },
    {
      "cell_type": "code",
      "execution_count": null,
      "metadata": {},
      "outputs": [],
      "source": [
        "#1. Detect Corners using Hough Algorithm (Store the resultant images of corners being drawn as well as the individual coordinates)\n",
        "image_output_dir = 'Corners_Extracted_Hough_Images/'\n",
        "corner_output_dir = 'Corners_Extracted_Hough/'\n",
        "detect_corners(image_output_dir, corner_output_dir, corner_detection_utils.hough)\n",
        "\n",
        "#2. Now identify the pieces in each original image with the help of the corners\n",
        "idenitfy_board_pieces(corner_output_dir)"
      ]
    },
    {
      "cell_type": "code",
      "execution_count": null,
      "metadata": {},
      "outputs": [],
      "source": [
        "#1. Detect Corners using Chroma Algorithm (Store the resultant images of corners being drawn as well as the individual coordinates)\n",
        "image_output_dir = 'Corners_Extracted_Chroma_Images/'\n",
        "corner_output_dir = 'Corners_Extracted_Chroma/'\n",
        "detect_corners(image_output_dir, corner_output_dir, corner_detection_utils.chroma_key)\n",
        "\n",
        "#2. Now identify the pieces in each original image with the help of the corners\n",
        "idenitfy_board_pieces(corner_output_dir)"
      ]
    },
    {
      "cell_type": "code",
      "execution_count": null,
      "metadata": {},
      "outputs": [],
      "source": [
        "#1. Detect Corners using Fast Line Detector Algorithm (Store the resultant images of corners being drawn as well as the individual coordinates)\n",
        "image_output_dir = 'Corners_Extracted_FastLineDetector_Images/'\n",
        "corner_output_dir = 'Corners_Extracted_FastLineDetector/'\n",
        "detect_corners(image_output_dir, corner_output_dir, corner_detection_utils.fast_line_detector)\n",
        "\n",
        "#2. Now identify the pieces in each original image with the help of the corners\n",
        "idenitfy_board_pieces(corner_output_dir)"
      ]
    }
  ],
  "metadata": {
    "colab": {
      "provenance": []
    },
    "kernelspec": {
      "display_name": "Python 3",
      "name": "python3"
    },
    "language_info": {
      "codemirror_mode": {
        "name": "ipython",
        "version": 3
      },
      "file_extension": ".py",
      "mimetype": "text/x-python",
      "name": "python",
      "nbconvert_exporter": "python",
      "pygments_lexer": "ipython3",
      "version": "3.11.6"
    }
  },
  "nbformat": 4,
  "nbformat_minor": 0
}
